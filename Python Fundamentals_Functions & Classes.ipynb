{
 "cells": [
  {
   "cell_type": "markdown",
   "id": "99558333-29a3-475d-ba40-31bf3a4ca590",
   "metadata": {},
   "source": [
    "## 1. Python Fundamentals (Basic to Intermediate)"
   ]
  },
  {
   "cell_type": "markdown",
   "id": "ad7b8f9b-694f-489d-ad6d-b8cdf4c26e77",
   "metadata": {},
   "source": [
    "### 4.Functions & Classes:"
   ]
  },
  {
   "cell_type": "markdown",
   "id": "38481646-7bb0-464e-9d8a-d4458b61214a",
   "metadata": {},
   "source": [
    "#### 1. Write a function that takes variable arguments (*args, **kwargs)."
   ]
  },
  {
   "cell_type": "code",
   "execution_count": 9,
   "id": "b3b27fbd-43d6-4b31-adf1-e84bce7d7ad4",
   "metadata": {},
   "outputs": [
    {
     "name": "stdout",
     "output_type": "stream",
     "text": [
      "Student Names: ('Alice', 'Bob', 'Charlie')\n",
      "Details:\n",
      "age:20\n",
      "grade:A\n",
      "city:NY\n"
     ]
    }
   ],
   "source": [
    "def student_marks(*names,**details):\n",
    "    print(\"Student Names:\",names)\n",
    "    print(\"Details:\")\n",
    "    for key, value in details.items():\n",
    "        print(f\"{key}:{value}\")\n",
    "student_marks(\"Alice\", \"Bob\", \"Charlie\", age=20, grade=\"A\", city=\"NY\")\n"
   ]
  },
  {
   "cell_type": "code",
   "execution_count": 11,
   "id": "797ec108-8288-4c1a-9644-6fae5e1e6ca7",
   "metadata": {},
   "outputs": [
    {
     "name": "stdout",
     "output_type": "stream",
     "text": [
      "Student: Alice\n",
      "  Age: 20\n",
      "  Grade: A\n",
      "  City: NY\n",
      "\n",
      "Student: Bob\n",
      "  Age: 20\n",
      "  Grade: A\n",
      "  City: NY\n",
      "\n",
      "Student: Charlie\n",
      "  Age: 20\n",
      "  Grade: A\n",
      "  City: NY\n",
      "\n"
     ]
    }
   ],
   "source": [
    "def student_marks(*names, **details):\n",
    "    # *names → captures many student names (like a list)\n",
    "    # **details → captures keyword arguments like age=20, city=\"NY\"\n",
    "    \n",
    "    for name in names:\n",
    "        print(f\"Student: {name}\")\n",
    "        for key, value in details.items():\n",
    "            print(f\"  {key.capitalize()}: {value}\")\n",
    "        print()  # Blank line for readability\n",
    "student_marks(\"Alice\", \"Bob\", \"Charlie\", age=20, grade=\"A\", city=\"NY\")\n"
   ]
  },
  {
   "cell_type": "code",
   "execution_count": 18,
   "id": "8aaa1e56-f2b3-477b-ac66-4fe68d122d71",
   "metadata": {},
   "outputs": [
    {
     "name": "stdout",
     "output_type": "stream",
     "text": [
      "Employee Name: Muruga\n",
      "Department: Data\n",
      "Experience: 10\n",
      "\n",
      "Employee Name: Mel\n",
      "Department: ML\n",
      "Experience: 8\n",
      "\n",
      "Employee Name: Vid\n",
      "Department: AI\n",
      "Experience: 6\n",
      "\n"
     ]
    }
   ],
   "source": [
    "def log_employees(*employees):\n",
    "    for emp in employees:\n",
    "        print(f\"Employee Name: {emp['name']}\")\n",
    "        for key, value in emp.items():\n",
    "            if key != 'name':\n",
    "                print(f\"{key}: {value}\")\n",
    "        print()  # blank line between employees\n",
    "\n",
    "# Example usage\n",
    "log_employees(\n",
    "    {\"name\": \"Muruga\", \"Department\": \"Data\", \"Experience\": 10},\n",
    "    {\"name\": \"Mel\", \"Department\": \"ML\", \"Experience\": 8},\n",
    "    {\"name\": \"Vid\", \"Department\": \"AI\", \"Experience\": 6}\n",
    ")\n",
    "\n"
   ]
  },
  {
   "cell_type": "markdown",
   "id": "03401cfe-3200-4e50-9363-2fe20522330e",
   "metadata": {},
   "source": [
    "## 2. Implement a simple class (e.g., a Car class with make, model, year attributes and a display_info method)."
   ]
  },
  {
   "cell_type": "code",
   "execution_count": 22,
   "id": "753c78de-21de-40e7-98dc-7295ad5b7e3d",
   "metadata": {},
   "outputs": [
    {
     "name": "stdout",
     "output_type": "stream",
     "text": [
      "Car:2021 Toyota Camry\n"
     ]
    }
   ],
   "source": [
    "#Step 1: Define the class\n",
    "\n",
    "class Car:\n",
    "\n",
    "    #Step 2: Constructor to initialize attributes:\n",
    "    def __init__(self, make, model, year):\n",
    "        self.make=make #instance variable\n",
    "        self.model=model\n",
    "        self.year=year\n",
    "\n",
    "    \n",
    "    #Step 3: Method to display car information\n",
    "    def display_info(self):\n",
    "        print(f\"Car:{self.year} {self.make} {self.model}\")\n",
    "\n",
    "my_car=Car(\"Toyota\",\"Camry\",2021) #Creating an object\n",
    "my_car.display_info()  #Calling method\n"
   ]
  },
  {
   "cell_type": "markdown",
   "id": "37caca78-b094-4837-a817-0084b8068770",
   "metadata": {},
   "source": [
    "    Defined a class Car – this acts as a blueprint.\n",
    "\n",
    "    Used __init__() to:\n",
    "\n",
    "        Accept values when an object is created.\n",
    "\n",
    "        Assign them to instance variables using self.\n",
    "\n",
    "    Defined a method display_info() to print the car details.\n",
    "\n",
    "    Created an object: my_car = Car(\"Toyota\", \"Camry\", 2021)\n",
    "\n",
    "    Called the method on the object: my_car.display_info()\n",
    "\n"
   ]
  },
  {
   "cell_type": "code",
   "execution_count": null,
   "id": "9a521e01-64e8-4dd7-85f3-dd56ce1c44e2",
   "metadata": {},
   "outputs": [],
   "source": [
    "| Concept         | Interview Tip                                                |\n",
    "| --------------- | ------------------------------------------------------------ |\n",
    "| `__init__`      | Explain it's a constructor used for initializing attributes. |\n",
    "| `self`          | Points to the instance (object) of the class.                |\n",
    "| Object creation | You can create multiple objects with different values.       |\n",
    "| Method          | You can define behaviors/actions using methods.              |\n"
   ]
  },
  {
   "cell_type": "code",
   "execution_count": null,
   "id": "f2c198eb-b5e0-4118-9bf4-ea9f59bbdbe0",
   "metadata": {},
   "outputs": [],
   "source": []
  }
 ],
 "metadata": {
  "kernelspec": {
   "display_name": "Python 3.11 (Fruit Project)",
   "language": "python",
   "name": "fruit_freshness_311"
  },
  "language_info": {
   "codemirror_mode": {
    "name": "ipython",
    "version": 3
   },
   "file_extension": ".py",
   "mimetype": "text/x-python",
   "name": "python",
   "nbconvert_exporter": "python",
   "pygments_lexer": "ipython3",
   "version": "3.11.0"
  }
 },
 "nbformat": 4,
 "nbformat_minor": 5
}
