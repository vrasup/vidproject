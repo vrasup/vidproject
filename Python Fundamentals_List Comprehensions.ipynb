{
 "cells": [
  {
   "cell_type": "markdown",
   "id": "ea331a09-5d89-4641-9202-7faa7bfed8d8",
   "metadata": {},
   "source": [
    "## 1. Python Fundamentals (Basic to Intermediate)"
   ]
  },
  {
   "cell_type": "markdown",
   "id": "aabd9eb6-f4b5-4377-af9a-812d5a283af7",
   "metadata": {},
   "source": [
    "#### 5. List Comprehensions:"
   ]
  },
  {
   "cell_type": "markdown",
   "id": "7399f2c3-94f5-4212-b0d1-2813e92da3bb",
   "metadata": {},
   "source": [
    "##### 1. Use list comprehensions to square all numbers in a list."
   ]
  },
  {
   "cell_type": "code",
   "execution_count": 5,
   "id": "0fdbecc7-865a-49db-bc5f-5753d66a1b4e",
   "metadata": {},
   "outputs": [
    {
     "name": "stdin",
     "output_type": "stream",
     "text": [
      "Enter the number space separated: 5 10 7 6\n"
     ]
    },
    {
     "name": "stdout",
     "output_type": "stream",
     "text": [
      "[25, 100, 49, 36]\n"
     ]
    }
   ],
   "source": [
    "def square_numbers(number):\n",
    "    squares=[X**2 for X in number]\n",
    "    return squares\n",
    "number=list(map(int, input(\"Enter the number space separated:\").split()))\n",
    "print(square_numbers(number))                "
   ]
  },
  {
   "cell_type": "markdown",
   "id": "e9c1575c-9f0f-4080-a01a-4aa70ba741dd",
   "metadata": {},
   "source": [
    "##### 2. Use list comprehensions to filter even numbers and odd numbers from a list"
   ]
  },
  {
   "cell_type": "code",
   "execution_count": 24,
   "id": "d64ac95b-a2f2-4551-bc7e-20b1dff06319",
   "metadata": {},
   "outputs": [
    {
     "name": "stdin",
     "output_type": "stream",
     "text": [
      "Enter the number space separated: 1 2 3 4 5\n"
     ]
    },
    {
     "name": "stdout",
     "output_type": "stream",
     "text": [
      "Even Number (Squared):[4, 16]\n",
      "Odd Number (cube):[1, 27, 125]\n"
     ]
    }
   ],
   "source": [
    "def even_number(numbers):\n",
    "    even_num=[x**2 for x in numbers if x%2==0]\n",
    "    odd_num=[x**3 for x in numbers if x%2!=0]\n",
    "    return even_num, odd_num\n",
    "\n",
    "numbers=list(map(int, input(\"Enter the number space separated:\").split()))\n",
    "even_num, odd_num = even_number(numbers)\n",
    "\n",
    "print(f\"Even Number (Squared):{even_num}\")\n",
    "print(f\"Odd Number (cube):{odd_num}\")                "
   ]
  },
  {
   "cell_type": "code",
   "execution_count": 25,
   "id": "8258e52b-3a8c-4c21-a209-e0dcbd8912f2",
   "metadata": {},
   "outputs": [
    {
     "name": "stdin",
     "output_type": "stream",
     "text": [
      "Enter numbers space separated:  1 2 3 4 5\n"
     ]
    },
    {
     "name": "stdout",
     "output_type": "stream",
     "text": [
      "Even numbers: [2, 4]\n",
      "Odd numbers: [1, 3, 5]\n"
     ]
    }
   ],
   "source": [
    "def separate_even_odd(numbers):\n",
    "    even = []\n",
    "    odd = []\n",
    "    for num in numbers:\n",
    "        if num % 2 == 0:\n",
    "            even.append(num)  # no remainder → even\n",
    "        else:\n",
    "            odd.append(num)   # remainder → odd\n",
    "    return even, odd\n",
    "\n",
    "numbers = list(map(int, input(\"Enter numbers space separated: \").split()))\n",
    "even_numbers, odd_numbers = separate_even_odd(numbers)\n",
    "\n",
    "print(\"Even numbers:\", even_numbers)\n",
    "print(\"Odd numbers:\", odd_numbers)\n"
   ]
  },
  {
   "cell_type": "code",
   "execution_count": null,
   "id": "1a3b9075-e501-4aa8-9d64-ee64ab08e7c2",
   "metadata": {},
   "outputs": [],
   "source": []
  }
 ],
 "metadata": {
  "kernelspec": {
   "display_name": "Python 3.11 (Fruit Project)",
   "language": "python",
   "name": "fruit_freshness_311"
  },
  "language_info": {
   "codemirror_mode": {
    "name": "ipython",
    "version": 3
   },
   "file_extension": ".py",
   "mimetype": "text/x-python",
   "name": "python",
   "nbconvert_exporter": "python",
   "pygments_lexer": "ipython3",
   "version": "3.11.0"
  }
 },
 "nbformat": 4,
 "nbformat_minor": 5
}
