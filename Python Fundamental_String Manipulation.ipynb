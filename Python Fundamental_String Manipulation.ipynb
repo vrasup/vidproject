{
 "cells": [
  {
   "cell_type": "markdown",
   "id": "d9e135b9-bdfd-4afa-a8f3-ca90c3b5b572",
   "metadata": {},
   "source": [
    "## 1. Python Fundamentals (Basic to Intermediate)¶"
   ]
  },
  {
   "cell_type": "markdown",
   "id": "0057828d-dbc1-4a3b-ab81-3c01cae8e934",
   "metadata": {},
   "source": [
    "### 3. String Manipulation"
   ]
  },
  {
   "cell_type": "markdown",
   "id": "5d011958-501d-4ae6-b85f-6b103564c008",
   "metadata": {},
   "source": [
    "#### 1. Check if a string is a palindrome."
   ]
  },
  {
   "cell_type": "code",
   "execution_count": 10,
   "id": "76d5bf99-e432-4641-8c12-2f25dc85100b",
   "metadata": {},
   "outputs": [
    {
     "name": "stdin",
     "output_type": "stream",
     "text": [
      "Enter the input: A man, a plan, a canal: Panama\n"
     ]
    },
    {
     "name": "stdout",
     "output_type": "stream",
     "text": [
      "True\n"
     ]
    }
   ],
   "source": [
    "from string import punctuation\n",
    "def is_palindrome(text, mode=\"word\"):\n",
    "    \n",
    "    #step1: Remove Punctuation\n",
    "    for char in punctuation:\n",
    "        text=text.replace(char, \"\")\n",
    "   \n",
    "    # Step 2: Convert to lowercase and strip whitespace\n",
    "    text=text.lower().strip()\n",
    "\n",
    "    if mode==\"char\":\n",
    "        # Step 3A: Character-level: remove all spaces\n",
    "        cleaned=\"\".join(text.split())\n",
    "        return cleaned==cleaned[::-1]\n",
    "    \n",
    "    elif mode==\"word\":\n",
    "        # Step 3B: Word-level: split into words\n",
    "        words=text.split()\n",
    "        return words==words[::-1]\n",
    "        \n",
    "    else:\n",
    "        raise ValueError(\"Invalid mode. Choose 'char' or 'word'\")\n",
    "text=input(\"Enter the input:\")\n",
    "print( is_palindrome(text, mode=\"char\"))\n",
    "    \n"
   ]
  },
  {
   "cell_type": "markdown",
   "id": "4b52ca65-5409-4672-8b3c-eebd3ea6e454",
   "metadata": {},
   "source": [
    "#### 2.Reverse words in a sentence"
   ]
  },
  {
   "cell_type": "code",
   "execution_count": 14,
   "id": "2ce447a4-f371-44ac-873b-485d4f3d1a2b",
   "metadata": {},
   "outputs": [
    {
     "name": "stdin",
     "output_type": "stream",
     "text": [
      "Enter the sentence: I am in prayer.\n"
     ]
    },
    {
     "name": "stdout",
     "output_type": "stream",
     "text": [
      "prayer in am i\n"
     ]
    }
   ],
   "source": [
    "def reversed_word(sentence):\n",
    "    for char in punctuation:\n",
    "        sentence=sentence.replace(char,\"\")\n",
    "    words=sentence.lower().strip().split()\n",
    "    return \" \".join(words[::-1])\n",
    "sentence=input(\"Enter the sentence:\")\n",
    "print(reversed_word(sentence))\n",
    "    "
   ]
  },
  {
   "cell_type": "code",
   "execution_count": 19,
   "id": "3e8670d9-0994-4e1c-8bde-f31525289fb7",
   "metadata": {},
   "outputs": [
    {
     "name": "stdin",
     "output_type": "stream",
     "text": [
      "Enter the sentence: I am in Prayer\n"
     ]
    },
    {
     "name": "stdout",
     "output_type": "stream",
     "text": [
      "prayer in am i\n"
     ]
    }
   ],
   "source": [
    "def reversed_word(sentence):\n",
    "    for char in punctuation:\n",
    "        sentence=sentence.replace(char,\"\")\n",
    "    words=sentence.lower().strip().split()\n",
    "    reversed_words=list(reversed(words))\n",
    "    return \" \".join(reversed_words)\n",
    "sentence=input(\"Enter the sentence:\")\n",
    "print(reversed_word(sentence))\n",
    "    "
   ]
  },
  {
   "cell_type": "code",
   "execution_count": null,
   "id": "c3019212-6ef6-4450-8fdf-216ed2445977",
   "metadata": {},
   "outputs": [],
   "source": []
  },
  {
   "cell_type": "code",
   "execution_count": null,
   "id": "1827c96f-8ea7-4800-88aa-afdd8bdcc529",
   "metadata": {},
   "outputs": [],
   "source": []
  }
 ],
 "metadata": {
  "kernelspec": {
   "display_name": "Python 3.11 (Fruit Project)",
   "language": "python",
   "name": "fruit_freshness_311"
  },
  "language_info": {
   "codemirror_mode": {
    "name": "ipython",
    "version": 3
   },
   "file_extension": ".py",
   "mimetype": "text/x-python",
   "name": "python",
   "nbconvert_exporter": "python",
   "pygments_lexer": "ipython3",
   "version": "3.11.0"
  }
 },
 "nbformat": 4,
 "nbformat_minor": 5
}
