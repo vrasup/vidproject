{
 "cells": [
  {
   "cell_type": "markdown",
   "id": "bfb4ff7a-5695-494a-a051-4cb7779fc3a7",
   "metadata": {},
   "source": [
    "## Problem 1: Sort List of Dictionaries by a Specific Key"
   ]
  },
  {
   "cell_type": "markdown",
   "id": "589aa649-24fc-4068-8d9c-648435958dc7",
   "metadata": {},
   "source": [
    "#### 1. List of dictionaries"
   ]
  },
  {
   "cell_type": "code",
   "execution_count": 10,
   "id": "3be38fcc-78ab-4268-b3c7-616343bdd336",
   "metadata": {},
   "outputs": [
    {
     "name": "stdout",
     "output_type": "stream",
     "text": [
      "Sorted Age by Lowest to Higehest: [{'name': 'Nob', 'age': 25}, {'name': 'Malice', 'age': 30}, {'name': 'Pharlie', 'age': 35}]\n",
      "\n",
      "Sorted Name by Alphabetical Order: [{'name': 'Malice', 'age': 30}, {'name': 'Nob', 'age': 25}, {'name': 'Pharlie', 'age': 35}]\n",
      "\n",
      "Sorted Age by Highest to Lowest: [{'name': 'Nob', 'age': 25}, {'name': 'Malice', 'age': 30}, {'name': 'Pharlie', 'age': 35}]\n"
     ]
    }
   ],
   "source": [
    "people = [\n",
    "    {\"name\": \"Malice\", \"age\": 30},\n",
    "    {\"name\": \"Nob\", \"age\": 25},\n",
    "    {\"name\": \"Pharlie\", \"age\": 35}\n",
    "]\n",
    "\n",
    "sort_by_age=sorted(people, key=lambda X: X[\"age\"])\n",
    "print(f\"Sorted Age by Lowest to Higehest: {sort_by_age}\")\n",
    "print()\n",
    "\n",
    "sort_by_name=sorted(people, key=lambda Y: Y[\"name\"])\n",
    "print(f\"Sorted Name by Alphabetical Order: {sort_by_name}\")\n",
    "print()\n",
    "\n",
    "reversed_Age=sorted(people, key=lambda Z: Z[\"age\"], reverse=True)\n",
    "print(f\"Sorted Age by Highest to Lowest: {sort_by_age}\")\n"
   ]
  },
  {
   "cell_type": "code",
   "execution_count": 11,
   "id": "23e4c84d-0c60-4c82-baa2-6841854ff868",
   "metadata": {},
   "outputs": [
    {
     "data": {
      "text/plain": [
       "[{'name': 'Nob', 'age': 25},\n",
       " {'name': 'Malice', 'age': 30},\n",
       " {'name': 'Pharlie', 'age': 35}]"
      ]
     },
     "execution_count": 11,
     "metadata": {},
     "output_type": "execute_result"
    }
   ],
   "source": [
    "#Another method using def\n",
    "\n",
    "def get_age(person):\n",
    "    return person[\"age\"]\n",
    "sorted(people,key=get_age) "
   ]
  },
  {
   "cell_type": "markdown",
   "id": "63de009c-1f48-4248-b66f-7f654e361378",
   "metadata": {},
   "source": [
    "## 2.Problem: Count the Frequency of Words in a String and Store Them in a Dictionary"
   ]
  },
  {
   "cell_type": "code",
   "execution_count": 15,
   "id": "8442aa7c-16c0-417c-8cbc-7dfa71d999d4",
   "metadata": {},
   "outputs": [
    {
     "name": "stdin",
     "output_type": "stream",
     "text": [
      "Enter the Sentence: \"python is fun and python is powerful\"\n"
     ]
    },
    {
     "name": "stdout",
     "output_type": "stream",
     "text": [
      "{'\"python': 1, 'is': 2, 'fun': 1, 'and': 1, 'python': 1, 'powerful\"': 1}\n"
     ]
    }
   ],
   "source": [
    "def frequency_of_words(sentence):\n",
    "    for char in \".,!?\":\n",
    "        sentence=sentence.replace(char, \"\")\n",
    "    sentence=sentence.lower().strip().split()\n",
    "    word_count={}\n",
    "    for word in sentence:\n",
    "        if word in word_count:\n",
    "            word_count[word]+=1\n",
    "        else:\n",
    "            word_count[word]=1\n",
    "    return word_count\n",
    "sentence=input(\"Enter the Sentence:\")\n",
    "print( frequency_of_words(sentence))"
   ]
  },
  {
   "cell_type": "code",
   "execution_count": 21,
   "id": "b8970f1d-83c5-4c8b-a9c8-8fb7ede7709b",
   "metadata": {},
   "outputs": [
    {
     "name": "stdin",
     "output_type": "stream",
     "text": [
      "Enter the Sentence: Move on to nested dictionaries?\n"
     ]
    },
    {
     "name": "stdout",
     "output_type": "stream",
     "text": [
      "Counter({'move': 1, 'on': 1, 'to': 1, 'nested': 1, 'dictionaries': 1})\n"
     ]
    }
   ],
   "source": [
    "#another Method using Counter\n",
    "\n",
    "from collections import Counter\n",
    "from string import punctuation\n",
    "def word_frequency(text):\n",
    "    for char in punctuation:\n",
    "        text=text.replace(char, \"\")\n",
    "    cleaned_text=text.lower().strip().split()\n",
    "    word_count=Counter(cleaned_text)\n",
    "    return word_count\n",
    "text=input(\"Enter the Sentence:\")\n",
    "print(word_frequency(text))\n"
   ]
  }
 ],
 "metadata": {
  "kernelspec": {
   "display_name": "Python 3.11 (Fruit Project)",
   "language": "python",
   "name": "fruit_freshness_311"
  },
  "language_info": {
   "codemirror_mode": {
    "name": "ipython",
    "version": 3
   },
   "file_extension": ".py",
   "mimetype": "text/x-python",
   "name": "python",
   "nbconvert_exporter": "python",
   "pygments_lexer": "ipython3",
   "version": "3.11.0"
  }
 },
 "nbformat": 4,
 "nbformat_minor": 5
}
