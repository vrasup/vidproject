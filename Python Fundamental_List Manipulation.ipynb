{
 "cells": [
  {
   "cell_type": "markdown",
   "id": "3f0b7a4f-8089-4283-af7e-20ccede40fea",
   "metadata": {},
   "source": [
    "# 1. Python Fundamentals (Basic to Intermediate)"
   ]
  },
  {
   "cell_type": "markdown",
   "id": "3123a235-436f-4cf7-af46-2b87d8aebf46",
   "metadata": {},
   "source": [
    "### 1. List Manipulation:"
   ]
  },
  {
   "cell_type": "markdown",
   "id": "41ad6aca-5ae9-41f5-bb84-ff7110cd2b8b",
   "metadata": {},
   "source": [
    "## 1. Reversing a List Without .reverse() or [::-1]"
   ]
  },
  {
   "cell_type": "code",
   "execution_count": 4,
   "id": "83441fd1-0e8b-4c90-b3f1-a3726adc0ec8",
   "metadata": {},
   "outputs": [
    {
     "name": "stdin",
     "output_type": "stream",
     "text": [
      "Enter the number space separated: 5 4 3 21\n"
     ]
    },
    {
     "name": "stdout",
     "output_type": "stream",
     "text": [
      "[21, 3, 4, 5]\n"
     ]
    }
   ],
   "source": [
    "def reverse_list(numbers):\n",
    "    reversednumber=[]\n",
    "    for i in range(len(numbers)-1,-1,-1):\n",
    "        reversednumber.append(numbers[i])\n",
    "    return reversednumber\n",
    "numbers=list(map(int,input(\"Enter the number space separated:\").split()))\n",
    "print(reverse_list(numbers))\n",
    "        \n",
    "        "
   ]
  },
  {
   "cell_type": "markdown",
   "id": "1e3550dd-333c-4e1c-ba07-7de1781ee1d2",
   "metadata": {},
   "source": [
    "## 2. Finding Common Elements in Two Lists"
   ]
  },
  {
   "cell_type": "code",
   "execution_count": 9,
   "id": "afc41f2e-0594-46a7-b4e5-cb41eebe7619",
   "metadata": {},
   "outputs": [
    {
     "name": "stdin",
     "output_type": "stream",
     "text": [
      "Enter the first number space separated:  55 98 63 78 98 66 55\n",
      "Enter the second number space separated:  98 55 66 66 78 100 87\n"
     ]
    },
    {
     "name": "stdout",
     "output_type": "stream",
     "text": [
      "[98, 66, 78, 55]\n"
     ]
    }
   ],
   "source": [
    "def common_elements(num1, num2):\n",
    "    num1_set=set(num1)\n",
    "    num2_set=set(num2)\n",
    "    common=[]\n",
    "    for item in num1_set:\n",
    "        if item in num2_set:\n",
    "            common.append(item)\n",
    "    return common\n",
    "num1=list(map(int, input(\"Enter the first number space separated: \").split()))\n",
    "num2=list(map(int, input(\"Enter the second number space separated: \").split()))\n",
    "print(common_elements(num1, num2))\n",
    "\n",
    "   \n",
    "    "
   ]
  },
  {
   "cell_type": "markdown",
   "id": "2a46feb4-b954-48dc-9e70-5ae1e13e3d9e",
   "metadata": {},
   "source": [
    "## 3. Remove Duplicates While Preserving Order"
   ]
  },
  {
   "cell_type": "code",
   "execution_count": 11,
   "id": "3f5b425c-e6aa-4428-950a-c2d42db334f4",
   "metadata": {},
   "outputs": [
    {
     "name": "stdin",
     "output_type": "stream",
     "text": [
      "Enter the sentence:  this is mango and this is apple.\n"
     ]
    },
    {
     "name": "stdout",
     "output_type": "stream",
     "text": [
      "['this', 'is', 'mango', 'and', 'apple.']\n"
     ]
    }
   ],
   "source": [
    "def remove_duplicates(original_list):\n",
    "    seen=set()\n",
    "    result=[]\n",
    "    for item in original_list:\n",
    "        if item not in seen:\n",
    "            result.append(item)\n",
    "            seen.add(item)\n",
    "    return result\n",
    "original_list=input(\"Enter the sentence: \").lower().split()\n",
    "print(remove_duplicates(original_list))"
   ]
  },
  {
   "cell_type": "code",
   "execution_count": 14,
   "id": "922bff8a-4f0d-4b34-9d9c-19096175e24c",
   "metadata": {},
   "outputs": [
    {
     "name": "stdin",
     "output_type": "stream",
     "text": [
      "Enter the first number space separated:  2 4 8 10\n",
      "Enter the second number space separated:  10 8\n"
     ]
    },
    {
     "name": "stdout",
     "output_type": "stream",
     "text": [
      "[8, 10]\n"
     ]
    }
   ],
   "source": [
    "#Another method to find common element:\n",
    "def common_elements(num1, num2):\n",
    "    num1_set=set(num1)\n",
    "    num2_set=set(num2)\n",
    "    common=list(num1_set.intersection(num2_set))\n",
    "    return common\n",
    "num1=list(map(int, input(\"Enter the first number space separated: \").split()))\n",
    "num2=list(map(int, input(\"Enter the second number space separated: \").split()))\n",
    "print(common_elements(num1, num2))\n"
   ]
  }
 ],
 "metadata": {
  "kernelspec": {
   "display_name": "Python 3.11 (Fruit Project)",
   "language": "python",
   "name": "fruit_freshness_311"
  },
  "language_info": {
   "codemirror_mode": {
    "name": "ipython",
    "version": 3
   },
   "file_extension": ".py",
   "mimetype": "text/x-python",
   "name": "python",
   "nbconvert_exporter": "python",
   "pygments_lexer": "ipython3",
   "version": "3.11.0"
  }
 },
 "nbformat": 4,
 "nbformat_minor": 5
}
