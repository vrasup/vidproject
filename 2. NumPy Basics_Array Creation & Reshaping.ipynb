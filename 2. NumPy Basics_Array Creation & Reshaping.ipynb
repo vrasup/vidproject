{
 "cells": [
  {
   "cell_type": "markdown",
   "id": "fd041603-b870-403b-97e6-6efa64adb9c2",
   "metadata": {},
   "source": [
    "## 2. NumPy Basics (Essential for Numerical Operations)"
   ]
  },
  {
   "cell_type": "markdown",
   "id": "b8ea3f0c-0bfd-4aa1-996c-50c51aa543dd",
   "metadata": {},
   "source": [
    "#### 1.Array Creation & Reshaping:"
   ]
  },
  {
   "cell_type": "markdown",
   "id": "30b855b3-a3d0-4531-b282-b0e0f7f9a8b9",
   "metadata": {},
   "source": [
    "##### Create a 3x3 NumPy array with values ranging from 0 to 8."
   ]
  },
  {
   "cell_type": "code",
   "execution_count": 6,
   "id": "cd46b1c6-9e39-4043-81f3-884d644ea4c8",
   "metadata": {},
   "outputs": [
    {
     "name": "stdout",
     "output_type": "stream",
     "text": [
      "[[0 1 2]\n",
      " [3 4 5]\n",
      " [6 7 8]]\n"
     ]
    }
   ],
   "source": [
    "import numpy as np\n",
    "one_dimension=np.arange(0,9)\n",
    "three_dimesnion=one_dimension.reshape(3,3)\n",
    "print(three_dimesnion)\n"
   ]
  },
  {
   "cell_type": "markdown",
   "id": "34093604-b8f8-40d4-8c76-dfa3cd9f5e07",
   "metadata": {},
   "source": [
    "#### Create a 1D array of 12 numbers, then reshape into 3 rows and 4 columns."
   ]
  },
  {
   "cell_type": "code",
   "execution_count": 7,
   "id": "74a69770-d24b-4a6a-8388-7a8d87c54b64",
   "metadata": {},
   "outputs": [
    {
     "name": "stdout",
     "output_type": "stream",
     "text": [
      "[[ 0  1  2  3]\n",
      " [ 4  5  6  7]\n",
      " [ 8  9 10 11]]\n"
     ]
    }
   ],
   "source": [
    "tweleve_numbers=np.arange(0,12)\n",
    "reshaped_array=tweleve_numbers.reshape(3,4)\n",
    "print(reshaped_array)"
   ]
  },
  {
   "cell_type": "markdown",
   "id": "b58e4282-1c85-44a8-8ed1-cb5f87aa76dd",
   "metadata": {},
   "source": [
    "## Create:\n",
    "\n",
    "    a 2x3 array of all zeros\n",
    "\n",
    "    a 3x1 array of all ones\n",
    "\n",
    "    a 4x2 array filled with the number 9"
   ]
  },
  {
   "cell_type": "code",
   "execution_count": 14,
   "id": "d6f38cce-f000-4d93-b0e2-ab312a484aad",
   "metadata": {},
   "outputs": [
    {
     "name": "stdout",
     "output_type": "stream",
     "text": [
      "2x3 Zeros:\n",
      " [[0. 0. 0.]\n",
      " [0. 0. 0.]]\n",
      "3x1 Ones:\n",
      " [[1.]\n",
      " [1.]\n",
      " [1.]]\n",
      "4x2 Nines:\n",
      " [[9 9]\n",
      " [9 9]\n",
      " [9 9]\n",
      " [9 9]]\n"
     ]
    }
   ],
   "source": [
    "\n",
    "# 2x3 array of all zeros\n",
    "zero_arrays = np.zeros((2, 3))\n",
    "print(\"2x3 Zeros:\\n\", zero_arrays)\n",
    "\n",
    "# 3x1 array of all ones\n",
    "ones_array = np.ones((3, 1))\n",
    "print(\"3x1 Ones:\\n\", ones_array)\n",
    "\n",
    "# 4x2 array filled with 9\n",
    "nine_arrays = np.full((4, 2), 9)\n",
    "print(\"4x2 Nines:\\n\", nine_arrays)\n"
   ]
  }
 ],
 "metadata": {
  "kernelspec": {
   "display_name": "Python 3.11 (Fruit Project)",
   "language": "python",
   "name": "fruit_freshness_311"
  },
  "language_info": {
   "codemirror_mode": {
    "name": "ipython",
    "version": 3
   },
   "file_extension": ".py",
   "mimetype": "text/x-python",
   "name": "python",
   "nbconvert_exporter": "python",
   "pygments_lexer": "ipython3",
   "version": "3.11.0"
  }
 },
 "nbformat": 4,
 "nbformat_minor": 5
}
