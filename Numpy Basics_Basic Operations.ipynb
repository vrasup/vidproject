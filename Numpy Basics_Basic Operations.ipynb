{
 "cells": [
  {
   "cell_type": "markdown",
   "id": "81394bac-783f-4fde-8c1c-0de68f6f0355",
   "metadata": {},
   "source": [
    "## 2. NumPy Basics (Essential for Numerical Operations)"
   ]
  },
  {
   "cell_type": "markdown",
   "id": "83720c95-0534-4bdb-9577-c3bc147612fb",
   "metadata": {},
   "source": [
    "#### 1. Perform element-wise addition, subtraction, multiplication, and division on two NumPy arrays."
   ]
  },
  {
   "cell_type": "code",
   "execution_count": 9,
   "id": "017b23c9-7c4a-40af-9a37-cd086b73a6d3",
   "metadata": {},
   "outputs": [
    {
     "name": "stdout",
     "output_type": "stream",
     "text": [
      "Addition: [5 7 9]\n",
      "Subtraction: [-3 -3 -3]\n",
      "Multiplication: [ 4 10 18]\n",
      "Division: [0.25 0.4  0.5 ]\n"
     ]
    }
   ],
   "source": [
    "import numpy as np\n",
    "Array_A = [1, 2, 3]\n",
    "Array_B = [4, 5, 6]\n",
    "\n",
    "#1. Convert lists to NumPy arrays\n",
    "#NumPy only does element-wise operations when both are NumPy arrays.\n",
    "\n",
    "A=np.array([1,2,3])\n",
    "B=np.array([4,5,6])\n",
    "\n",
    "#2.Use element-wise operators (+, -, *, /)\n",
    "\n",
    "print(\"Addition:\", A+B)\n",
    "print(\"Subtraction:\",A-B)\n",
    "print(\"Multiplication:\", A*B)\n",
    "print(\"Division:\",A/B)\n"
   ]
  },
  {
   "cell_type": "markdown",
   "id": "23039d1c-bfa8-44f9-b8b8-6ca0676b2eb0",
   "metadata": {},
   "source": [
    "##### 2. Calculate the dot product of two NumPy arrays."
   ]
  },
  {
   "cell_type": "code",
   "execution_count": 11,
   "id": "d141df85-f6bc-4e0e-8f71-ceda687623be",
   "metadata": {},
   "outputs": [
    {
     "name": "stdout",
     "output_type": "stream",
     "text": [
      "Dot Product: 32\n"
     ]
    }
   ],
   "source": [
    "#Dot product (matrix multiplication for vectors)\n",
    "print(\"Dot Product:\", np.dot(A,B))\n"
   ]
  },
  {
   "cell_type": "markdown",
   "id": "f111843a-646b-46d2-84b8-dc10ae0683a7",
   "metadata": {},
   "source": [
    "##### 3. Find the mean, median, standard deviation of a NumPy array."
   ]
  },
  {
   "cell_type": "code",
   "execution_count": 14,
   "id": "9031d47f-0f9f-45dd-af0a-0afb2b6a19f2",
   "metadata": {},
   "outputs": [
    {
     "name": "stdout",
     "output_type": "stream",
     "text": [
      "Mean: 2.0\n",
      "Median: 2.0\n",
      "Standard Deviation: 0.816496580927726\n"
     ]
    }
   ],
   "source": [
    "#Statistics on Array_A\n",
    "print(\"Mean:\", np.mean(A))\n",
    "print(\"Median:\", np.median(A))\n",
    "print(\"Standard Deviation:\", np.std(A))"
   ]
  },
  {
   "cell_type": "code",
   "execution_count": null,
   "id": "41132fdb-0046-41c9-b402-171f08af0ba7",
   "metadata": {},
   "outputs": [],
   "source": []
  }
 ],
 "metadata": {
  "kernelspec": {
   "display_name": "Python 3.11 (Fruit Project)",
   "language": "python",
   "name": "fruit_freshness_311"
  },
  "language_info": {
   "codemirror_mode": {
    "name": "ipython",
    "version": 3
   },
   "file_extension": ".py",
   "mimetype": "text/x-python",
   "name": "python",
   "nbconvert_exporter": "python",
   "pygments_lexer": "ipython3",
   "version": "3.11.0"
  }
 },
 "nbformat": 4,
 "nbformat_minor": 5
}
